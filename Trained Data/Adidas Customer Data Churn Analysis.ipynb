{
 "cells": [
  {
   "cell_type": "markdown",
   "id": "56db4e9a-ff0b-4fb2-a952-cfa994db0e95",
   "metadata": {},
   "source": [
    "# Adidas Customer Data Churn Analysis\n",
    "\n",
    "Churn analysis is a technique used to predict or analyze the rate at which customers stop doing business with a company. It is commonly used in industries like telecommunications, subscription services, and banking. Below, I'll walk you through how to perform churn analysis using a sample dataset."
   ]
  },
  {
   "cell_type": "markdown",
   "id": "36fdb0fc-a2c9-4631-b7e4-20c9b70d46d8",
   "metadata": {},
   "source": [
    "## Step 1: Import necessary libraries and set up the environment"
   ]
  },
  {
   "cell_type": "code",
   "execution_count": 12,
   "id": "18b9d417-d2be-4e26-a319-47cf8efad3e6",
   "metadata": {},
   "outputs": [],
   "source": [
    "import pandas as pd\n",
    "import numpy as np\n",
    "import matplotlib.pyplot as plt\n",
    "import seaborn as sns\n",
    "from datetime import datetime"
   ]
  },
  {
   "cell_type": "markdown",
   "id": "54cc6a0e-e0ca-4139-9768-8f7a1fce3403",
   "metadata": {},
   "source": [
    "##  Step 2: Load and clean the dataset"
   ]
  },
  {
   "cell_type": "code",
   "execution_count": 13,
   "id": "c4bbc3aa-2fa0-411e-a984-8b54b95995fc",
   "metadata": {},
   "outputs": [
    {
     "name": "stdout",
     "output_type": "stream",
     "text": [
      "Available columns: ['Customer Name', 'Customer ID', 'Invoice Date', 'Customer Location', 'Customer State', 'Customer City', 'Product', 'Price per Unit', 'Units Sold', 'Total Sales', 'Sales Method']\n",
      "<class 'pandas.core.frame.DataFrame'>\n",
      "Index: 9648 entries, 0 to 1200\n",
      "Data columns (total 14 columns):\n",
      " #   Column             Non-Null Count  Dtype         \n",
      "---  ------             --------------  -----         \n",
      " 0   Customer Name      9648 non-null   object        \n",
      " 1   Customer ID        9648 non-null   int64         \n",
      " 2   Invoice Date       9648 non-null   datetime64[ns]\n",
      " 3   Customer Location  9648 non-null   object        \n",
      " 4   Customer State     9648 non-null   object        \n",
      " 5   Customer City      9648 non-null   object        \n",
      " 6   Product            9648 non-null   object        \n",
      " 7   Price per Unit     9648 non-null   object        \n",
      " 8   Units Sold         9648 non-null   object        \n",
      " 9   Total Sales        9648 non-null   object        \n",
      " 10  Sales Method       9648 non-null   object        \n",
      " 11  Invoice_Date       9648 non-null   datetime64[ns]\n",
      " 12  Total_Sales        9648 non-null   object        \n",
      " 13  Year_Month         9648 non-null   period[M]     \n",
      "dtypes: datetime64[ns](2), int64(1), object(10), period[M](1)\n",
      "memory usage: 1.1+ MB\n"
     ]
    }
   ],
   "source": [
    "\n",
    "def create_clean_dataset():\n",
    "    # Load the dataset\n",
    "    Adidas_Customer_df = pd.read_csv(r\"C:\\Users\\jki\\Desktop\\Data Scence Projects\\Customer Data Churn Analysis\\Machine Learning\\Source Files\\Adidas US Sales Datasets.csv\")\n",
    "    \n",
    "    # Print columns to diagnose\n",
    "    print(\"Available columns:\", Adidas_Customer_df.columns.tolist())\n",
    "    \n",
    "    # Convert Invoice_Date to datetime format - fixing column name inconsistency\n",
    "    if 'Invoice Date' in Adidas_Customer_df.columns:\n",
    "        Adidas_Customer_df['Invoice_Date'] = pd.to_datetime(Adidas_Customer_df['Invoice Date'])\n",
    "        # Keep both columns for now to prevent errors\n",
    "        Adidas_Customer_df['Invoice Date'] = Adidas_Customer_df['Invoice_Date']\n",
    "    else:\n",
    "        # If already renamed\n",
    "        Adidas_Customer_df['Invoice_Date'] = pd.to_datetime(Adidas_Customer_df['Invoice_Date'])\n",
    "    \n",
    "    # Calculate Total_Sales if it doesn't exist\n",
    "    if 'Total Sales' in Adidas_Customer_df.columns:\n",
    "        Adidas_Customer_df['Total_Sales'] = Adidas_Customer_df['Total Sales']\n",
    "    elif 'Price' in Adidas_Customer_df.columns and 'Units' in Adidas_Customer_df.columns:\n",
    "        Adidas_Customer_df['Total_Sales'] = Adidas_Customer_df['Price'] * Adidas_Customer_df['Units']\n",
    "    elif 'Price' in Adidas_Customer_df.columns and 'Units_Sold' in Adidas_Customer_df.columns:\n",
    "        Adidas_Customer_df['Total_Sales'] = Adidas_Customer_df['Price'] * Adidas_Customer_df['Units_Sold']\n",
    "    \n",
    "    # Sort by date\n",
    "    Adidas_Customer_df = Adidas_Customer_df.sort_values('Invoice_Date')\n",
    "    \n",
    "    # Add a Year_Month column for time-based analysis\n",
    "    Adidas_Customer_df['Year_Month'] = Adidas_Customer_df['Invoice_Date'].dt.to_period('M')\n",
    "    \n",
    "    return Adidas_Customer_df\n",
    "\n",
    "\n",
    "# Check the data type status\n",
    "Adidas_Customer_df = create_clean_dataset()\n",
    "Adidas_Customer_df.info()\n",
    "\n",
    "   "
   ]
  },
  {
   "cell_type": "code",
   "execution_count": 16,
   "id": "6c35d3d1-2b12-46f2-9e9d-aa921fcfa037",
   "metadata": {},
   "outputs": [
    {
     "name": "stdout",
     "output_type": "stream",
     "text": [
      "<class 'pandas.core.frame.DataFrame'>\n",
      "Index: 9648 entries, 0 to 1200\n",
      "Data columns (total 14 columns):\n",
      " #   Column             Non-Null Count  Dtype         \n",
      "---  ------             --------------  -----         \n",
      " 0   Customer Name      9648 non-null   object        \n",
      " 1   Customer ID        9648 non-null   int64         \n",
      " 2   Invoice Date       9648 non-null   datetime64[ns]\n",
      " 3   Customer Location  9648 non-null   object        \n",
      " 4   Customer State     9648 non-null   object        \n",
      " 5   Customer City      9648 non-null   object        \n",
      " 6   Product            9648 non-null   object        \n",
      " 7   Price per Unit     9648 non-null   object        \n",
      " 8   Units Sold         9648 non-null   object        \n",
      " 9   Total Sales        9648 non-null   object        \n",
      " 10  Sales Method       9648 non-null   object        \n",
      " 11  Invoice_Date       9648 non-null   datetime64[ns]\n",
      " 12  Total_Sales        9648 non-null   object        \n",
      " 13  Year_Month         9648 non-null   period[M]     \n",
      "dtypes: datetime64[ns](2), int64(1), object(10), period[M](1)\n",
      "memory usage: 1.1+ MB\n"
     ]
    }
   ],
   "source": [
    "# Check the data type status\n",
    "Adidas_Customer_df.info()"
   ]
  },
  {
   "cell_type": "markdown",
   "id": "8da3c0b9-63b2-43c8-b2b4-7ec00d2c6172",
   "metadata": {},
   "source": [
    "## Step 3: Analyze customer churn"
   ]
  },
  {
   "cell_type": "code",
   "execution_count": 32,
   "id": "49a5240c-efa7-4197-bbcb-c63890d81ee7",
   "metadata": {},
   "outputs": [
    {
     "ename": "IndentationError",
     "evalue": "unindent does not match any outer indentation level (<tokenize>, line 60)",
     "output_type": "error",
     "traceback": [
      "\u001b[1;36m  File \u001b[1;32m<tokenize>:60\u001b[1;36m\u001b[0m\n\u001b[1;33m    rn churn_analysis, customer_activity\u001b[0m\n\u001b[1;37m    ^\u001b[0m\n\u001b[1;31mIndentationError\u001b[0m\u001b[1;31m:\u001b[0m unindent does not match any outer indentation level\n"
     ]
    }
   ],
   "source": [
    "import pandas as pd\n",
    "\n",
    "def analyze_customer_churn(Adidas_Customer_df):\n",
    "    \"\"\"\n",
    "    Analyzes customer churn based on monthly customer activity.\n",
    "\n",
    "    Args:\n",
    "        Adidas_Customer_df (pd.DataFrame): DataFrame containing customer transaction data.\n",
    "                                            Must have columns 'Year_Month' and 'Customer Name'.\n",
    "\n",
    "    Returns:\n",
    "        tuple: A tuple containing:\n",
    "            - churn_analysis (pd.DataFrame): DataFrame with churn metrics per month.\n",
    "            - customer_activity (pd.DataFrame): DataFrame showing customer activity over time.\n",
    "    \"\"\"\n",
    "\n",
    "    # Check if required columns exist\n",
    "    if not all(col in Adidas_Customer_df.columns for col in ['Year_Month', 'Customer Name']):\n",
    "        raise ValueError(\"Input DataFrame must contain 'Year_Month' and 'Customer Name' columns.\")\n",
    "\n",
    "    # Ensure 'Year_Month' is sorted\n",
    "    Adidas_Customer_df = Adidas_Customer_df.sort_values(by='Year_Month')\n",
    "\n",
    "    # Count unique customers per month\n",
    "    customer_counts = Adidas_Customer_df.groupby('Year_Month')['Customer Name'].nunique()\n",
    "\n",
    "    # Track customer activity over time\n",
    "    customer_activity = Adidas_Customer_df.groupby(['Year_Month', 'Customer Name']).size().unstack(fill_value=0)\n",
    "\n",
    "    # Convert to binary activity (1 = active, 0 = inactive)\n",
    "    customer_activity_binary = customer_activity.applymap(lambda x: 1 if x > 0 else 0)\n",
    "\n",
    "    # Calculate churn: customers who were active in previous month but not in current month\n",
    "    churn_analysis = pd.DataFrame(index=customer_activity_binary.index[1:], columns=['Active_Customers', 'Churned_Customers', 'Churn_Rate'])\n",
    "\n",
    "    for i in range(1, len(customer_activity_binary)):\n",
    "        prev_month = customer_activity_binary.index[i-1]\n",
    "        curr_month = customer_activity_binary.index[i]\n",
    "\n",
    "        # Customers active in previous month\n",
    "        prev_active = set(customer_activity_binary.columns[customer_activity_binary.iloc[i-1] == 1])\n",
    "\n",
    "        # Customers active in current month\n",
    "        curr_active = set(customer_activity_binary.columns[customer_activity_binary.iloc[i] == 1])\n",
    "\n",
    "        # Customers who churned (were active in previous month but not in current month)\n",
    "        churned = prev_active - curr_active\n",
    "\n",
    "        # Calculate churn rate\n",
    "        if len(prev_active) > 0:\n",
    "            churn_rate = len(churned) / len(prev_active) * 100\n",
    "        else:\n",
    "            churn_rate = 0\n",
    "\n",
    "        churn_analysis.loc[curr_month, 'Active_Customers'] = len(curr_active)\n",
    "        churn_analysis.loc[curr_month, 'Churned_Customers'] = len(churned)\n",
    "        churn_analysis.loc[curr_month, 'Churn_Rate'] = churn_rate\n",
    "\n",
    "    return churn_analysis, customer_activity\n",
    "  rn churn_analysis, customer_activity"
   ]
  },
  {
   "cell_type": "code",
   "execution_count": 33,
   "id": "9edd3ab1-ac8b-406a-bf48-e8b48e35a892",
   "metadata": {},
   "outputs": [
    {
     "ename": "SyntaxError",
     "evalue": "'return' outside function (159834887.py, line 1)",
     "output_type": "error",
     "traceback": [
      "\u001b[1;36m  Cell \u001b[1;32mIn[33], line 1\u001b[1;36m\u001b[0m\n\u001b[1;33m    return churn_analysis, customer_activity\u001b[0m\n\u001b[1;37m    ^\u001b[0m\n\u001b[1;31mSyntaxError\u001b[0m\u001b[1;31m:\u001b[0m 'return' outside function\n"
     ]
    }
   ],
   "source": [
    "return churn_analysis, customer_activity"
   ]
  },
  {
   "cell_type": "code",
   "execution_count": null,
   "id": "19eace9f-84a9-45b5-a135-2d6d1691a88e",
   "metadata": {},
   "outputs": [],
   "source": [
    "## Step 4: Analyze sales patterns"
   ]
  },
  {
   "cell_type": "code",
   "execution_count": null,
   "id": "81b60099-f2e9-44b5-8b82-195a9ea60c1b",
   "metadata": {},
   "outputs": [],
   "source": [
    "\n",
    "def analyze_sales_patterns(df):\n",
    "    # Check if Total_Sales column exists, if not create it\n",
    "    if 'Total_Sales' not in df.columns:\n",
    "        # Assuming there might be 'Price' and 'Units_Sold' columns\n",
    "        if 'Price' in df.columns and 'Units_Sold' in df.columns:\n",
    "            df['Total_Sales'] = df['Price'] * df['Units_Sold']\n",
    "        # Fallback if there's a 'Total Sales' column with space\n",
    "        elif 'Total Sales' in df.columns:\n",
    "            df = df.rename(columns={'Total Sales': 'Total_Sales'})\n",
    "    \n",
    "    # Analyze sales trends by customer\n",
    "    customer_sales = df.groupby(['Customer Name', 'Year_Month'])['Total_Sales'].sum().unstack(fill_value=0)\n",
    "    \n",
    "    # Product popularity by customer\n",
    "    # Check if 'Product' column exists, use alternative if needed\n",
    "    product_col = 'Product' if 'Product' in df.columns else 'Product Name' if 'Product Name' in df.columns else None\n",
    "    if product_col:\n",
    "        product_preference = df.groupby(['Customer Name', product_col])['Total_Sales'].sum().unstack(fill_value=0)\n",
    "    else:\n",
    "        product_preference = pd.DataFrame()  # Empty dataframe if no product column found\n",
    "    \n",
    "    # Sales method preference\n",
    "    # Check if 'Sales_Method' column exists, use alternative if needed\n",
    "    sales_method_col = 'Sales_Method' if 'Sales_Method' in df.columns else 'Sales Method' if 'Sales Method' in df.columns else None\n",
    "    if sales_method_col:\n",
    "        sales_method_preference = df.groupby(['Customer Name', sales_method_col])['Total_Sales'].sum().unstack(fill_value=0)\n",
    "    else:\n",
    "        sales_method_preference = pd.DataFrame()  # Empty dataframe if no sales method column found\n",
    "    \n",
    "    return customer_sales, product_preference, sales_method_preference"
   ]
  },
  {
   "cell_type": "markdown",
   "id": "583f4922-589b-48aa-aa13-4236e321786f",
   "metadata": {},
   "source": [
    "## Step 5: Perform customer segmentation"
   ]
  },
  {
   "cell_type": "code",
   "execution_count": null,
   "id": "39d03962-4c5a-477e-8301-9847a8677a62",
   "metadata": {},
   "outputs": [],
   "source": [
    "def customer_segmentation(df):\n",
    "    # Create customer summary\n",
    "    customer_summary = df.groupby('Customer Name').agg({\n",
    "        'Invoice_Date': [min, max, 'count'],\n",
    "        'Total_Sales': 'sum'\n",
    "    })\n",
    "    \n",
    "    customer_summary.columns = ['First_Purchase', 'Last_Purchase', 'Purchase_Count', 'Total_Revenue']\n",
    "    \n",
    "    # Add Units_Sold if available\n",
    "    if 'Units_Sold' in df.columns:\n",
    "        units_sold = df.groupby('Customer Name')['Units_Sold'].sum()\n",
    "        customer_summary['Total_Units'] = units_sold\n",
    "    \n",
    "    # Calculate days since last purchase\n",
    "    latest_date = df['Invoice_Date'].max()\n",
    "    customer_summary['Days_Since_Last_Purchase'] = (latest_date - customer_summary['Last_Purchase']).dt.days\n",
    "    \n",
    "    # Calculate average purchase value\n",
    "    customer_summary['Avg_Purchase_Value'] = customer_summary['Total_Revenue'] / customer_summary['Purchase_Count']\n",
    "    \n",
    "    # Calculate customer lifetime in days\n",
    "    customer_summary['Customer_Lifetime'] = (customer_summary['Last_Purchase'] - customer_summary['First_Purchase']).dt.days\n",
    "    \n",
    "    # Calculate purchase frequency (purchases per month)\n",
    "    customer_summary['Purchase_Frequency'] = customer_summary['Purchase_Count'] / ((customer_summary['Customer_Lifetime'] / 30) + 1)  # Add 1 to avoid division by zero\n",
    "    \n",
    "    return customer_summary\n",
    "        "
   ]
  },
  {
   "cell_type": "markdown",
   "id": "2d3c3277-948b-435c-a26e-dc7372529d28",
   "metadata": {},
   "source": [
    "# Step 6: Calculate retention rate over time"
   ]
  },
  {
   "cell_type": "code",
   "execution_count": null,
   "id": "1d71e319-0044-441f-b545-0b01be35bdeb",
   "metadata": {},
   "outputs": [],
   "source": [
    "def calculate_retention(Adidas_Customer_df):\n",
    "    months = sorted(Adidas_Customer_df['Year_Month'].unique())\n",
    "    retention_data = []\n",
    "\n",
    "    for i in range(1, len(months)):\n",
    "        curr_month = months[i]\n",
    "        prev_month = months[i-1]\n",
    "        \n",
    "        # Get active customers in both months - fixing column name inconsistency\n",
    "        prev_customers = set(Adidas_Customer_df[Adidas_Customer_df['Year_Month'] == prev_month]['Customer Name'].unique())\n",
    "        curr_customers = set(Adidas_Customer_df[Adidas_Customer_df['Year_Month'] == curr_month]['Customer Name'].unique())\n",
    "        \n",
    "        # Calculate retained customers\n",
    "        retained = prev_customers.intersection(curr_customers)\n",
    "        retention_rate = len(retained) / len(prev_customers) * 100 if len(prev_customers) > 0 else 0\n",
    "        \n",
    "        retention_data.append({\n",
    "            'Month': curr_month,\n",
    "            'Retention_Rate': retention_rate,\n",
    "            'Active_Customers': len(curr_customers),\n",
    "            'Retained_Customers': len(retained)\n",
    "        })\n",
    "\n",
    "    retention_df = pd.DataFrame(retention_data)\n",
    "    return retention_df\n",
    "\n"
   ]
  },
  {
   "cell_type": "markdown",
   "id": "502af495-f40d-4e48-bb76-09b746d5a3ba",
   "metadata": {},
   "source": [
    "Visualize Customer Churn\n",
    "\n",
    "We can plot the churn rate over time to see how it changes month by month."
   ]
  },
  {
   "cell_type": "code",
   "execution_count": null,
   "id": "75e26f43-d4ed-42c5-a15e-6f2cc5d30682",
   "metadata": {},
   "outputs": [],
   "source": [
    "def visualize_churn(churn_analysis):\n",
    "    plt.figure(figsize=(12, 6))\n",
    "    plt.plot(churn_analysis.index.astype(str), churn_analysis['Churn_Rate'], marker='o', linestyle='-', color='b')\n",
    "    plt.title('Monthly Customer Churn Rate')\n",
    "    plt.xlabel('Month')\n",
    "    plt.ylabel('Churn Rate (%)')\n",
    "    plt.xticks(rotation=45)\n",
    "    plt.grid(True)\n",
    "    plt.show()"
   ]
  },
  {
   "cell_type": "markdown",
   "id": "da1fedcb-fa56-446c-9a75-9e86fe546093",
   "metadata": {},
   "source": [
    "Visualize Sales Patterns\n",
    "\n",
    "\n",
    "We can visualize sales trends over time and product preferences"
   ]
  },
  {
   "cell_type": "code",
   "execution_count": null,
   "id": "cb9e2630-3fd4-4dd2-a61e-46b1e7b571f6",
   "metadata": {},
   "outputs": [],
   "source": [
    "def visualize_sales_patterns(customer_sales, product_preference):\n",
    "    # Sales trends over time\n",
    "    plt.figure(figsize=(12, 6))\n",
    "    customer_sales.sum().plot(kind='line', marker='o', linestyle='-', color='g')\n",
    "    plt.title('Total Sales Over Time')\n",
    "    plt.xlabel('Month')\n",
    "    plt.ylabel('Total Sales')\n",
    "    plt.xticks(rotation=45)\n",
    "    plt.grid(True)\n",
    "    plt.show()\n",
    "\n",
    "    # Product preferences\n",
    "    if not product_preference.empty:\n",
    "        plt.figure(figsize=(12, 6))\n",
    "        product_preference.sum().sort_values(ascending=False).plot(kind='bar', color='orange')\n",
    "        plt.title('Product Popularity')\n",
    "        plt.xlabel('Product')\n",
    "        plt.ylabel('Total Sales')\n",
    "        plt.xticks(rotation=45)\n",
    "        plt.grid(True)\n",
    "        plt.show()"
   ]
  },
  {
   "cell_type": "markdown",
   "id": "c7f7b1a8-58c3-4689-98b9-b687b1571f95",
   "metadata": {},
   "source": [
    "Visualize Customer Segmentation\n",
    "\n",
    "\n",
    "We can visualize customer segments based on their purchase behavior."
   ]
  },
  {
   "cell_type": "code",
   "execution_count": null,
   "id": "6f6c6429-e282-4fbb-a69a-9c3cd9702d1d",
   "metadata": {},
   "outputs": [],
   "source": [
    "def visualize_customer_segments(customer_segments):\n",
    "    # Days since last purchase\n",
    "    plt.figure(figsize=(12, 6))\n",
    "    sns.histplot(customer_segments['Days_Since_Last_Purchase'], bins=30, kde=True, color='purple')\n",
    "    plt.title('Distribution of Days Since Last Purchase')\n",
    "    plt.xlabel('Days Since Last Purchase')\n",
    "    plt.ylabel('Number of Customers')\n",
    "    plt.grid(True)\n",
    "    plt.show()\n",
    "\n",
    "    # Purchase frequency\n",
    "    plt.figure(figsize=(12, 6))\n",
    "    sns.histplot(customer_segments['Purchase_Frequency'], bins=30, kde=True, color='teal')\n",
    "    plt.title('Distribution of Purchase Frequency')\n",
    "    plt.xlabel('Purchase Frequency (Purchases per Month)')\n",
    "    plt.ylabel('Number of Customers')\n",
    "    plt.grid(True)\n",
    "    plt.show()"
   ]
  },
  {
   "cell_type": "markdown",
   "id": "16488661-0cec-481e-b3be-b81f20dfef0f",
   "metadata": {},
   "source": [
    "Visualize Retention Rates\n",
    "\n",
    "\r\n",
    "We can plot the retention rate over time to see how customer retention changes.on\r\n"
   ]
  },
  {
   "cell_type": "code",
   "execution_count": null,
   "id": "72a78293-e70b-41bc-80be-f681ed82a5ea",
   "metadata": {},
   "outputs": [],
   "source": [
    "def visualize_retention(retention_df):\n",
    "    plt.figure(figsize=(12, 6))\n",
    "    plt.plot(retention_df['Month'].astype(str), retention_df['Retention_Rate'], marker='o', linestyle='-', color='r')\n",
    "    plt.title('Monthly Customer Retention Rate')\n",
    "    plt.xlabel('Month')\n",
    "    plt.ylabel('Retention Rate (%)')\n",
    "    plt.xticks(rotation=45)\n",
    "    plt.grid(True)\n",
    "    plt.show()"
   ]
  },
  {
   "cell_type": "markdown",
   "id": "252ffee7-b3dc-49e0-b9d5-3a7407d887ce",
   "metadata": {},
   "source": [
    "Visualize At-Risk Customers\n",
    "\n",
    "\r\n",
    "We can visualize the customers who are at risk of churning based on their inactivity"
   ]
  },
  {
   "cell_type": "code",
   "execution_count": null,
   "id": "49f4cb09-5509-49d3-9cf5-f9fe08b1bae8",
   "metadata": {},
   "outputs": [],
   "source": [
    "def visualize_at_risk_customers(at_risk):\n",
    "    plt.figure(figsize=(12, 6))\n",
    "    sns.histplot(at_risk['Days_Since_Last_Purchase'], bins=30, kde=True, color='red')\n",
    "    plt.title('Distribution of Days Since Last Purchase for At-Risk Customers')\n",
    "    plt.xlabel('Days Since Last Purchase')\n",
    "    plt.ylabel('Number of Customers')\n",
    "    plt.grid(True)\n",
    "    plt.show()"
   ]
  },
  {
   "cell_type": "markdown",
   "id": "fe85ee78-8c41-40b5-a32f-66c5b0ba13f9",
   "metadata": {},
   "source": [
    "Main Function to Run Visualizations\n",
    "\n",
    "\n",
    "We can integrate all the visualization functions into the main analysis function."
   ]
  },
  {
   "cell_type": "code",
   "execution_count": null,
   "id": "ecac6e72-9919-4894-9163-c89e7dc20cf8",
   "metadata": {},
   "outputs": [],
   "source": [
    "def run_visualizations(results):\n",
    "    # Visualize churn analysis\n",
    "    visualize_churn(results['churn_analysis'])\n",
    "    \n",
    "    # Visualize sales patterns\n",
    "    visualize_sales_patterns(results['customer_sales'], results['product_preference'])\n",
    "    \n",
    "    # Visualize customer segments\n",
    "    visualize_customer_segments(results['customer_segments'])\n",
    "    \n",
    "    # Visualize retention rates\n",
    "    visualize_retention(results['retention_df'])\n",
    "    \n",
    "    # Visualize at-risk customers\n",
    "    visualize_at_risk_customers(results['at_risk'])"
   ]
  },
  {
   "cell_type": "markdown",
   "id": "e410e5e0-1d3c-4a4f-a1b2-10beb3efc049",
   "metadata": {},
   "source": [
    "Execute the Analysis and Visualizations\n",
    "\n",
    "\n",
    "Finally, we can run the analysis and generate the visualizations."
   ]
  },
  {
   "cell_type": "code",
   "execution_count": null,
   "id": "d07735f3-75c1-4509-8e0b-957d3016764c",
   "metadata": {},
   "outputs": [],
   "source": [
    "if __name__ == \"__main__\":\n",
    "    # Run the churn analysis\n",
    "    results = run_churn_analysis()\n",
    "    \n",
    "    # Generate visualizations\n",
    "    run_visualizations(results)"
   ]
  },
  {
   "cell_type": "markdown",
   "id": "2fc4e41a-341f-4e67-b74f-f9b178b8a7d3",
   "metadata": {},
   "source": [
    "Summary of Visualizations:\r\n",
    "Churn Rate Over Time: A line plot showing the monthly churn rate.\r\n",
    "\r\n",
    "Sales Trends Over Time: A line plot showing total sales over time.\r\n",
    "\r\n",
    "Product Popularity: A bar chart showing the most popular products.\r\n",
    "\r\n",
    "Customer Segmentation:\r\n",
    "\r\n",
    "Distribution of days since the last purchase.\r\n",
    "\r\n",
    "Distribution of purchase frequency.\r\n",
    "\r\n",
    "Retention Rate Over Time: A line plot showing the monthly retention rate.\r\n",
    "\r\n",
    "At-Risk Customers: A histogram showing the distribution of days since the last purchase for at-risk customers."
   ]
  },
  {
   "cell_type": "code",
   "execution_count": null,
   "id": "2da6bedb-a43f-4707-80c8-9bce936953c8",
   "metadata": {},
   "outputs": [],
   "source": []
  }
 ],
 "metadata": {
  "kernelspec": {
   "display_name": "Python 3 (ipykernel)",
   "language": "python",
   "name": "python3"
  },
  "language_info": {
   "codemirror_mode": {
    "name": "ipython",
    "version": 3
   },
   "file_extension": ".py",
   "mimetype": "text/x-python",
   "name": "python",
   "nbconvert_exporter": "python",
   "pygments_lexer": "ipython3",
   "version": "3.11.7"
  }
 },
 "nbformat": 4,
 "nbformat_minor": 5
}
